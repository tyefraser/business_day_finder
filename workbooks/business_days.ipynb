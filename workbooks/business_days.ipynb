{
 "cells": [
  {
   "cell_type": "code",
   "execution_count": 149,
   "metadata": {},
   "outputs": [
    {
     "name": "stdout",
     "output_type": "stream",
     "text": [
      "The autoreload extension is already loaded. To reload it, use:\n",
      "  %reload_ext autoreload\n"
     ]
    }
   ],
   "source": [
    "%load_ext autoreload\n",
    "%autoreload 2\n",
    "\n",
    "import sys\n",
    "sys.path.insert(1, '../')"
   ]
  },
  {
   "cell_type": "code",
   "execution_count": 168,
   "metadata": {},
   "outputs": [],
   "source": [
    "from datetime import date, datetime, timedelta\n",
    "import holidays\n",
    "from typing import List, Dict"
   ]
  },
  {
   "cell_type": "code",
   "execution_count": 183,
   "metadata": {},
   "outputs": [],
   "source": [
    "from business_day_finder.business_day_finder import (\n",
    "    combine_subdivision_holidays,\n",
    "    generate_weekend_dates_list,\n",
    "    weekend_and_holiday_dates,\n",
    "    convert_to_date,\n",
    ")\n"
   ]
  },
  {
   "cell_type": "code",
   "execution_count": 160,
   "metadata": {},
   "outputs": [],
   "source": [
    "locations_dict = {\n",
    "    'AU_NSW': {\n",
    "        'country': 'AU',\n",
    "        'subdivision': 'NSW',\n",
    "    },\n",
    "    'AU_VIC': {\n",
    "        'country': 'AU',\n",
    "        'subdivision': 'VIC',\n",
    "    },\n",
    "    'AU_NSW': {\n",
    "        'country': 'AU',\n",
    "        'subdivision': 'NSW',\n",
    "    },\n",
    "    'AU_QLD': {\n",
    "        'country': 'AU',\n",
    "        'subdivision': 'QLD',\n",
    "    },\n",
    "}\n",
    "locations_dict\n",
    "years = [2024, 2025]"
   ]
  },
  {
   "cell_type": "code",
   "execution_count": 186,
   "metadata": {},
   "outputs": [],
   "source": [
    "weekends_and_holiday_dates= weekend_and_holiday_dates(\n",
    "    locations_dict=locations_dict,\n",
    "    years=years,\n",
    ")"
   ]
  },
  {
   "cell_type": "code",
   "execution_count": 184,
   "metadata": {},
   "outputs": [],
   "source": [
    "date_string = '2024-01-01'\n",
    "date_dt = convert_to_date(date_string)"
   ]
  },
  {
   "cell_type": "code",
   "execution_count": 187,
   "metadata": {},
   "outputs": [
    {
     "data": {
      "text/plain": [
       "True"
      ]
     },
     "execution_count": 187,
     "metadata": {},
     "output_type": "execute_result"
    }
   ],
   "source": [
    "date_dt in weekends_and_holiday_dates"
   ]
  },
  {
   "cell_type": "code",
   "execution_count": 191,
   "metadata": {},
   "outputs": [
    {
     "data": {
      "text/plain": [
       "datetime.date(2024, 1, 2)"
      ]
     },
     "execution_count": 191,
     "metadata": {},
     "output_type": "execute_result"
    }
   ],
   "source": [
    "find_business_day(\n",
    "    base_date=date(2024,1,1),\n",
    "    weekends_and_holiday_dates=weekends_and_holiday_dates,\n",
    "    direction = 'next')"
   ]
  },
  {
   "cell_type": "code",
   "execution_count": 190,
   "metadata": {},
   "outputs": [],
   "source": [
    "def find_business_day(base_date: date, weekends_and_holiday_dates: list, direction: str = 'next') -> date:\n",
    "    \"\"\"\n",
    "    Find either the next or previous business day from the given base date.\n",
    "\n",
    "    Parameters:\n",
    "        - base_date (date): The base date from which to start the search.\n",
    "        - direction (str): The direction to search, either 'next' or 'previous'. Default is 'next'.\n",
    "\n",
    "    Returns:\n",
    "        - date: The next or previous business day.\n",
    "    \"\"\"\n",
    "\n",
    "    # Set the step for searching forward or backward\n",
    "    step = 1 if direction == 'next' else -1\n",
    "\n",
    "    current_date = base_date\n",
    "\n",
    "    while current_date in weekends_and_holiday_dates:\n",
    "        current_date += timedelta(days=step)\n",
    "\n",
    "    return current_date"
   ]
  },
  {
   "cell_type": "code",
   "execution_count": null,
   "metadata": {},
   "outputs": [],
   "source": [
    "from datetime import datetime, timedelta, date\n",
    "\n",
    "def find_business_day(base_date: date, direction: str = 'next') -> date:\n",
    "    \"\"\"\n",
    "    Find either the next or previous business day from the given base date.\n",
    "\n",
    "    Parameters:\n",
    "        - base_date (date): The base date from which to start the search.\n",
    "        - direction (str): The direction to search, either 'next' or 'previous'. Default is 'next'.\n",
    "\n",
    "    Returns:\n",
    "        - date: The next or previous business day.\n",
    "    \"\"\"\n",
    "    # Define the weekdays representing business days (Monday to Friday)\n",
    "    business_days = {0, 1, 2, 3, 4}\n",
    "\n",
    "    # Set the step for searching forward or backward\n",
    "    step = 1 if direction == 'next' else -1\n",
    "\n",
    "    current_date = base_date\n",
    "\n",
    "    while current_date.weekday() not in business_days:\n",
    "        current_date += timedelta(days=step)\n",
    "\n",
    "    return current_date\n",
    "\n",
    "# Example usage:\n",
    "base_date = date(2024, 1, 31)\n",
    "\n",
    "# Find the next business day\n",
    "next_business_day = find_business_day(base_date, direction='next')\n",
    "print(f\"Next business day: {next_business_day}\")\n",
    "\n",
    "# Find the previous business day\n",
    "previous_business_day = find_business_day(base_date, direction='previous')\n",
    "print(f\"Previous business day: {previous_business_day}\")\n"
   ]
  }
 ],
 "metadata": {
  "kernelspec": {
   "display_name": "Python 3",
   "language": "python",
   "name": "python3"
  },
  "language_info": {
   "codemirror_mode": {
    "name": "ipython",
    "version": 3
   },
   "file_extension": ".py",
   "mimetype": "text/x-python",
   "name": "python",
   "nbconvert_exporter": "python",
   "pygments_lexer": "ipython3",
   "version": "3.11.7"
  }
 },
 "nbformat": 4,
 "nbformat_minor": 2
}
